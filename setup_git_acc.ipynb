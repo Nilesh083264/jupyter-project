{
 "cells": [
  {
   "cell_type": "code",
   "execution_count": 1,
   "id": "99f91d4d-154a-4199-a682-1110a5a4f343",
   "metadata": {},
   "outputs": [
    {
     "name": "stdout",
     "output_type": "stream",
     "text": [
      "git version 2.47.1.windows.1\n"
     ]
    }
   ],
   "source": [
    "!git --version\n"
   ]
  },
  {
   "cell_type": "code",
   "execution_count": 3,
   "id": "66322f26-7844-4423-85cf-67f6b04b7f94",
   "metadata": {},
   "outputs": [],
   "source": [
    "!git config --global user.name \"Nilesh083264\"\n",
    "!git config --global user.email \"s20_shirgire_nilesh@mgmcen.ac.in\"\n"
   ]
  },
  {
   "cell_type": "code",
   "execution_count": 6,
   "id": "39070889-2842-4a8e-b6b4-71727ea8f860",
   "metadata": {},
   "outputs": [
    {
     "name": "stdout",
     "output_type": "stream",
     "text": [
      "[WinError 3] The system cannot find the path specified: 'path/to/your/notebook/directory'\n",
      "C:\\Users\\niles\\Githubsetups\n"
     ]
    }
   ],
   "source": [
    "cd path/to/your/notebook/directory\n"
   ]
  },
  {
   "cell_type": "code",
   "execution_count": 7,
   "id": "c8c5daf8-53b0-4ba4-952c-bfb3e8e0058d",
   "metadata": {},
   "outputs": [
    {
     "name": "stdout",
     "output_type": "stream",
     "text": [
      "Initialized empty Git repository in C:/Users/niles/Githubsetups/.git/\n"
     ]
    }
   ],
   "source": [
    "!git init\n"
   ]
  },
  {
   "cell_type": "code",
   "execution_count": 9,
   "id": "fc58f3dc-cf37-4cb5-8b51-1f908651f715",
   "metadata": {},
   "outputs": [],
   "source": [
    "!git remote add origin https://github.com/Nilesh083264/jupyter-project.git\n"
   ]
  },
  {
   "cell_type": "code",
   "execution_count": 10,
   "id": "d9c59091-a7a8-48ee-86fb-bf6fb7db1c82",
   "metadata": {},
   "outputs": [
    {
     "name": "stderr",
     "output_type": "stream",
     "text": [
      "warning: in the working copy of '.ipynb_checkpoints/Untitled-checkpoint.ipynb', LF will be replaced by CRLF the next time Git touches it\n",
      "warning: in the working copy of 'Untitled.ipynb', LF will be replaced by CRLF the next time Git touches it\n"
     ]
    }
   ],
   "source": [
    "!git add *.ipynb\n"
   ]
  },
  {
   "cell_type": "code",
   "execution_count": 11,
   "id": "ed07eed1-c0c8-471c-a2de-bd8560997e25",
   "metadata": {},
   "outputs": [
    {
     "name": "stdout",
     "output_type": "stream",
     "text": [
      "[main (root-commit) 14b9c6f] hello Nilesh This is Initial commit of Jupyter Notebook\n",
      " 2 files changed, 115 insertions(+)\n",
      " create mode 100644 .ipynb_checkpoints/Untitled-checkpoint.ipynb\n",
      " create mode 100644 Untitled.ipynb\n"
     ]
    }
   ],
   "source": [
    "!git commit -m \"hello Nilesh This is Initial commit of Jupyter Notebook\"\n"
   ]
  },
  {
   "cell_type": "code",
   "execution_count": 12,
   "id": "80d0a659-7b9d-40ee-a62b-577f243eaa2b",
   "metadata": {},
   "outputs": [
    {
     "name": "stdout",
     "output_type": "stream",
     "text": [
      "branch 'main' set up to track 'origin/main'."
     ]
    },
    {
     "name": "stderr",
     "output_type": "stream",
     "text": [
      "To https://github.com/Nilesh083264/jupyter-project.git\n",
      " * [new branch]      main -> main\n"
     ]
    },
    {
     "name": "stdout",
     "output_type": "stream",
     "text": [
      "\n"
     ]
    }
   ],
   "source": [
    "!git branch -M main\n",
    "!git push -u origin main\n"
   ]
  },
  {
   "cell_type": "code",
   "execution_count": null,
   "id": "c3431928-6089-4ae4-8156-4ff779aa68f6",
   "metadata": {},
   "outputs": [],
   "source": []
  }
 ],
 "metadata": {
  "kernelspec": {
   "display_name": "Python 3 (ipykernel)",
   "language": "python",
   "name": "python3"
  },
  "language_info": {
   "codemirror_mode": {
    "name": "ipython",
    "version": 3
   },
   "file_extension": ".py",
   "mimetype": "text/x-python",
   "name": "python",
   "nbconvert_exporter": "python",
   "pygments_lexer": "ipython3",
   "version": "3.12.4"
  }
 },
 "nbformat": 4,
 "nbformat_minor": 5
}
