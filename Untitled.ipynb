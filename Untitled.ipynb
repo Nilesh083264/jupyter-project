{
 "cells": [
  {
   "cell_type": "code",
   "execution_count": 1,
   "id": "99f91d4d-154a-4199-a682-1110a5a4f343",
   "metadata": {},
   "outputs": [
    {
     "name": "stdout",
     "output_type": "stream",
     "text": [
      "git version 2.47.1.windows.1\n"
     ]
    }
   ],
   "source": [
    "!git --version\n"
   ]
  },
  {
   "cell_type": "code",
   "execution_count": 3,
   "id": "66322f26-7844-4423-85cf-67f6b04b7f94",
   "metadata": {},
   "outputs": [],
   "source": [
    "!git config --global user.name \"Nilesh083264\"\n",
    "!git config --global user.email \"s20_shirgire_nilesh@mgmcen.ac.in\"\n"
   ]
  },
  {
   "cell_type": "code",
   "execution_count": 6,
   "id": "39070889-2842-4a8e-b6b4-71727ea8f860",
   "metadata": {},
   "outputs": [
    {
     "name": "stdout",
     "output_type": "stream",
     "text": [
      "[WinError 3] The system cannot find the path specified: 'path/to/your/notebook/directory'\n",
      "C:\\Users\\niles\\Githubsetups\n"
     ]
    }
   ],
   "source": [
    "cd path/to/your/notebook/directory\n"
   ]
  },
  {
   "cell_type": "code",
   "execution_count": 7,
   "id": "c8c5daf8-53b0-4ba4-952c-bfb3e8e0058d",
   "metadata": {},
   "outputs": [
    {
     "name": "stdout",
     "output_type": "stream",
     "text": [
      "Initialized empty Git repository in C:/Users/niles/Githubsetups/.git/\n"
     ]
    }
   ],
   "source": [
    "!git init\n"
   ]
  },
  {
   "cell_type": "code",
   "execution_count": 9,
   "id": "fc58f3dc-cf37-4cb5-8b51-1f908651f715",
   "metadata": {},
   "outputs": [],
   "source": [
    "!git remote add origin https://github.com/Nilesh083264/jupyter-project.git\n"
   ]
  },
  {
   "cell_type": "code",
   "execution_count": null,
   "id": "d9c59091-a7a8-48ee-86fb-bf6fb7db1c82",
   "metadata": {},
   "outputs": [],
   "source": []
  }
 ],
 "metadata": {
  "kernelspec": {
   "display_name": "Python 3 (ipykernel)",
   "language": "python",
   "name": "python3"
  },
  "language_info": {
   "codemirror_mode": {
    "name": "ipython",
    "version": 3
   },
   "file_extension": ".py",
   "mimetype": "text/x-python",
   "name": "python",
   "nbconvert_exporter": "python",
   "pygments_lexer": "ipython3",
   "version": "3.12.4"
  }
 },
 "nbformat": 4,
 "nbformat_minor": 5
}
